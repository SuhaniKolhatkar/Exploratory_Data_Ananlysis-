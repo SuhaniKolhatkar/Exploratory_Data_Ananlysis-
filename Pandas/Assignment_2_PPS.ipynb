{
 "cells": [
  {
   "cell_type": "code",
   "execution_count": 1,
   "id": "3c2628aa-5a71-47c3-a340-47ece02e504c",
   "metadata": {},
   "outputs": [],
   "source": [
    "# importing dependencies\n",
    "import numpy as np"
   ]
  },
  {
   "cell_type": "markdown",
   "id": "111f28f9-b818-4fb9-a9ce-56004e3763c7",
   "metadata": {},
   "source": [
    "#### a) Write a simple program to enter two numbers and perform all arithmetic operations"
   ]
  },
  {
   "cell_type": "code",
   "execution_count": 2,
   "id": "dd9718e5-5452-486e-88e6-deca561489d7",
   "metadata": {},
   "outputs": [
    {
     "name": "stdout",
     "output_type": "stream",
     "text": [
      "Enter your first Number\n"
     ]
    },
    {
     "name": "stdin",
     "output_type": "stream",
     "text": [
      " 2\n"
     ]
    },
    {
     "name": "stdout",
     "output_type": "stream",
     "text": [
      "Enter your second Number\n"
     ]
    },
    {
     "name": "stdin",
     "output_type": "stream",
     "text": [
      " 3\n"
     ]
    }
   ],
   "source": [
    "print('Enter your first Number')\n",
    "a = int(input())\n",
    "print('Enter your second Number')\n",
    "b = int(input())"
   ]
  },
  {
   "cell_type": "code",
   "execution_count": 3,
   "id": "4d83f8ae-79d5-4ec2-9384-b48a2442d04a",
   "metadata": {},
   "outputs": [],
   "source": [
    "add = a+b\n",
    "subt = a-b\n",
    "mult = a*b\n",
    "div = a/b"
   ]
  },
  {
   "cell_type": "code",
   "execution_count": 4,
   "id": "e37cd2a8-a494-4d58-919a-571248b68718",
   "metadata": {},
   "outputs": [
    {
     "name": "stdout",
     "output_type": "stream",
     "text": [
      "2 + 3 =5\n",
      "2 - 3 =-1\n",
      "2 x 3 =6\n",
      "2 / 3 =0.67\n"
     ]
    }
   ],
   "source": [
    "print(f\"{a} + {b} ={add}\")\n",
    "print(f\"{a} - {b} ={subt}\")\n",
    "print(f\"{a} x {b} ={round(mult , 2)}\")\n",
    "print(f\"{a} / {b} ={round(div , 2 )}\")"
   ]
  },
  {
   "cell_type": "markdown",
   "id": "466d4709-73a6-4447-8b9e-104acd328056",
   "metadata": {},
   "source": [
    "#### b) Write a program to find area of a triangle "
   ]
  },
  {
   "cell_type": "code",
   "execution_count": 5,
   "id": "3473a1da-b164-4267-b87f-bdb19ee4da06",
   "metadata": {},
   "outputs": [
    {
     "name": "stdout",
     "output_type": "stream",
     "text": [
      "Enter the lengths a,b,c of sides of a triangle\n"
     ]
    },
    {
     "name": "stdin",
     "output_type": "stream",
     "text": [
      " 4\n",
      " 5\n",
      " 6\n"
     ]
    }
   ],
   "source": [
    "print('Enter the lengths a,b,c of sides of a triangle')\n",
    "a = int(input())\n",
    "b = int(input())\n",
    "c = int(input())"
   ]
  },
  {
   "cell_type": "code",
   "execution_count": 6,
   "id": "83e47a7e-7eb1-4394-a8e6-ea94af6951dd",
   "metadata": {},
   "outputs": [],
   "source": [
    "if a < 0 :\n",
    "    print('invalid given length a')\n",
    "if b < 0 :\n",
    "    print('invalid given length b')\n",
    "if c < 0 :\n",
    "    print('invalid given length c')"
   ]
  },
  {
   "cell_type": "code",
   "execution_count": 7,
   "id": "24fbe888-bed3-4b22-8b8d-732d6d79d3f0",
   "metadata": {},
   "outputs": [
    {
     "data": {
      "text/plain": [
       "9.921567416492215"
      ]
     },
     "execution_count": 7,
     "metadata": {},
     "output_type": "execute_result"
    }
   ],
   "source": [
    "A = 2*(a*b)**2 - a**4\n",
    "B = 2*(b*c)**2 - b**4\n",
    "C = 2*(c*a)**2 - c**4\n",
    "\n",
    "T = int(A + B + C)\n",
    "\n",
    "area = 1/4 *(np.sqrt(T))\n",
    "area"
   ]
  },
  {
   "cell_type": "code",
   "execution_count": 8,
   "id": "a42e99d3-57cf-4e21-93c0-882f9a57c611",
   "metadata": {},
   "outputs": [
    {
     "name": "stdout",
     "output_type": "stream",
     "text": [
      "Area of the given triangle = 9.92 sq. units \n"
     ]
    }
   ],
   "source": [
    "print(f'Area of the given triangle = {round(area , 2 )} sq. units ')"
   ]
  },
  {
   "cell_type": "markdown",
   "id": "955b88cb-8ce3-4d55-8ff9-4aa476f17626",
   "metadata": {},
   "source": [
    "#### c) Write a program to take two numbers as a input and divide the first number by the second number. Prevent division by zero."
   ]
  },
  {
   "cell_type": "code",
   "execution_count": 9,
   "id": "79d01f8d-bcf7-4c7e-b03a-cdd993af7af0",
   "metadata": {},
   "outputs": [
    {
     "name": "stdout",
     "output_type": "stream",
     "text": [
      "Enter your first number\n"
     ]
    },
    {
     "name": "stdin",
     "output_type": "stream",
     "text": [
      " 2\n"
     ]
    },
    {
     "name": "stdout",
     "output_type": "stream",
     "text": [
      "Enter your second number\n"
     ]
    },
    {
     "name": "stdin",
     "output_type": "stream",
     "text": [
      " 3\n"
     ]
    }
   ],
   "source": [
    "print('Enter your first number')\n",
    "a = int(input())\n",
    "\n",
    "print('Enter your second number')\n",
    "b = int(input())"
   ]
  },
  {
   "cell_type": "code",
   "execution_count": 10,
   "id": "423f4367-3788-499f-b30a-29f625f66e00",
   "metadata": {},
   "outputs": [],
   "source": [
    "if b == 0 :\n",
    "    print('invalid value of second your !')"
   ]
  },
  {
   "cell_type": "code",
   "execution_count": 11,
   "id": "5496e699-162d-4049-a718-f2ad1ac0473e",
   "metadata": {},
   "outputs": [],
   "source": [
    "c = a / b\n",
    "div = round(c , 2)"
   ]
  },
  {
   "cell_type": "code",
   "execution_count": 12,
   "id": "af75f864-f2e2-4ffb-83b0-b33bad59e932",
   "metadata": {},
   "outputs": [
    {
     "name": "stdout",
     "output_type": "stream",
     "text": [
      "Division of First number by the second number = 0.67\n"
     ]
    }
   ],
   "source": [
    "print(f'Division of First number by the second number = {div}')"
   ]
  },
  {
   "cell_type": "code",
   "execution_count": null,
   "id": "67e73628-efc6-44cc-86bf-5fcaa509165b",
   "metadata": {},
   "outputs": [],
   "source": []
  }
 ],
 "metadata": {
  "kernelspec": {
   "display_name": "Python 3 (ipykernel)",
   "language": "python",
   "name": "python3"
  },
  "language_info": {
   "codemirror_mode": {
    "name": "ipython",
    "version": 3
   },
   "file_extension": ".py",
   "mimetype": "text/x-python",
   "name": "python",
   "nbconvert_exporter": "python",
   "pygments_lexer": "ipython3",
   "version": "3.10.9"
  }
 },
 "nbformat": 4,
 "nbformat_minor": 5
}
